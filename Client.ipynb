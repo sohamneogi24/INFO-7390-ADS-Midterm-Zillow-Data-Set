{
 "cells": [
  {
   "cell_type": "markdown",
   "metadata": {},
   "source": [
    "# Geo-spatial search example"
   ]
  },
  {
   "cell_type": "code",
   "execution_count": 59,
   "metadata": {
    "collapsed": true
   },
   "outputs": [],
   "source": [
    "%matplotlib inline\n",
    "import requests\n",
    "import numpy as np\n",
    "import seaborn as sns\n",
    "import matplotlib as mlt\n",
    "\n",
    "import urllib3\n",
    "import json\n",
    "import pandas as pd"
   ]
  },
  {
   "cell_type": "code",
   "execution_count": 60,
   "metadata": {},
   "outputs": [],
   "source": [
    "latitude = '34146812'\n",
    "longitude = '-118651278'\n",
    "url = 'http://35.192.35.231:8000/search/'+latitude + '/' + longitude\n",
    "http = urllib3.PoolManager()\n",
    "response = http.request('GET',url)\n",
    "response_dict = json.loads(response.data.decode('utf-8'))['results']\n",
    "search_df = pd.DataFrame(response_dict)"
   ]
  },
  {
   "cell_type": "code",
   "execution_count": 67,
   "metadata": {},
   "outputs": [
    {
     "data": {
      "text/plain": [
       "<folium.map.Marker at 0x1a128044e0>"
      ]
     },
     "execution_count": 67,
     "metadata": {},
     "output_type": "execute_result"
    }
   ],
   "source": [
    "import folium\n",
    "marker_pos = search_df.apply(lambda x : (x['latitude'], x['longitude'], x['parcelid']), axis = 1)\n",
    "\n",
    "\n",
    "#latlon = [ (51.249443914705175, -0.13878830247011467), (51.249443914705175, -0.13878830247011467), (51.249768239976866, -2.8610415615063034)]\n",
    "mapit = folium.Map( location=[float(latitude) /10e5, float(longitude) /10e5], zoom_start=15 )\n",
    "\n",
    "for coord in marker_pos:\n",
    "\n",
    "    parcelId = 'parcelId :' + str(coord[2])\n",
    "    folium.Marker( location=[ coord[0] / 10e5, coord[1] / 10e5 ], icon=folium.Icon(color='blue',icon='info-sign'), popup=parcelId).add_to( mapit )\n",
    "\n",
    "folium.Marker( location=[float(latitude) /10e5, float(longitude) /10e5], icon=folium.Icon(color='red',icon='info-sign'), popup='Target').add_to( mapit )\n",
    "\n"
   ]
  },
  {
   "cell_type": "markdown",
   "metadata": {},
   "source": [
    "# Zestimate Error prediction service"
   ]
  },
  {
   "cell_type": "code",
   "execution_count": 58,
   "metadata": {},
   "outputs": [
    {
     "name": "stdout",
     "output_type": "stream",
     "text": [
      "{'parcelid': 11472621.0, 'prediction-value': 0.008414007781692656}\n"
     ]
    }
   ],
   "source": [
    "import requests\n",
    "response = requests.post(\"http://35.192.35.231:8000/predict\",\n",
    "    json = {\n",
    "    \"predictions\" : {\n",
    "        \"parcelid\":11472621.0,\n",
    "        \"airconditioningtypeid\":1.0,\n",
    "        \"bathroomcnt\":1.0,\n",
    "        \"bedroomcnt\":2.0,\n",
    "        \"buildingqualitytypeid\":4.0,\n",
    "        \"calculatedbathnbr\":1.0,\n",
    "        \"calculatedfinishedsquarefeet\":1177.0,\n",
    "        \"finishedsquarefeet12\":1177.0,\n",
    "        \"fips\":6037.0,\n",
    "        \"fullbathcnt\":1.0,\n",
    "        \"garagecarcnt\":4.0,\n",
    "        \"garagetotalsqft\":919.6,\n",
    "        \"heatingorsystemtypeid\":7.0,\n",
    "        \"lotsizesquarefeet\":37106.0,\n",
    "        \"propertylandusetypeid\":266.0,\n",
    "        \"rawcensustractandblock\":60376201.0130089968,\n",
    "        \"regionidcity\":55753.0,\n",
    "        \"regionidcounty\":3101.0,\n",
    "        \"regionidneighborhood\":276514.0,\n",
    "        \"regionidzip\":96103.0,\n",
    "        \"roomcnt\":0.0,\n",
    "        \"unitcnt\":1.0,\n",
    "        \"yearbuilt\":1978.0,\n",
    "        \"structuretaxvaluedollarcnt\":235411.0,\n",
    "        \"taxvaluedollarcnt\":463070.0,\n",
    "        \"assessmentyear\":2015.0,\n",
    "        \"landtaxvaluedollarcnt\":227659.0,\n",
    "        \"taxamount\":5287.69,\n",
    "        \"censustractandblock\":60376201013009.0\n",
    "}\n",
    "}\n",
    ")\n",
    "\n",
    "output = response.json()\n",
    "print(output)"
   ]
  }
 ],
 "metadata": {
  "kernelspec": {
   "display_name": "Python 3",
   "language": "python",
   "name": "python3"
  },
  "language_info": {
   "codemirror_mode": {
    "name": "ipython",
    "version": 3
   },
   "file_extension": ".py",
   "mimetype": "text/x-python",
   "name": "python",
   "nbconvert_exporter": "python",
   "pygments_lexer": "ipython3",
   "version": "3.6.1"
  }
 },
 "nbformat": 4,
 "nbformat_minor": 2
}
